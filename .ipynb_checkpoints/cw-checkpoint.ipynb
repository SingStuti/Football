{
 "cells": [
  {
   "cell_type": "code",
   "execution_count": 1,
   "metadata": {},
   "outputs": [],
   "source": [
    "#importing for data connection\n",
    "import sqlite3\n",
    "conn = sqlite3.connect(\"database.sqlite\")\n",
    "cur = conn.cursor()\n"
   ]
  },
  {
   "cell_type": "code",
   "execution_count": 2,
   "metadata": {},
   "outputs": [
    {
     "data": {
      "text/html": [
       "<div>\n",
       "<style scoped>\n",
       "    .dataframe tbody tr th:only-of-type {\n",
       "        vertical-align: middle;\n",
       "    }\n",
       "\n",
       "    .dataframe tbody tr th {\n",
       "        vertical-align: top;\n",
       "    }\n",
       "\n",
       "    .dataframe thead th {\n",
       "        text-align: right;\n",
       "    }\n",
       "</style>\n",
       "<table border=\"1\" class=\"dataframe\">\n",
       "  <thead>\n",
       "    <tr style=\"text-align: right;\">\n",
       "      <th></th>\n",
       "      <th>Match_ID</th>\n",
       "      <th>Div</th>\n",
       "      <th>Season</th>\n",
       "      <th>Date</th>\n",
       "      <th>HomeTeam</th>\n",
       "      <th>AwayTeam</th>\n",
       "      <th>FTHG</th>\n",
       "      <th>FTAG</th>\n",
       "      <th>FTR</th>\n",
       "    </tr>\n",
       "  </thead>\n",
       "  <tbody>\n",
       "    <tr>\n",
       "      <td>0</td>\n",
       "      <td>1</td>\n",
       "      <td>D2</td>\n",
       "      <td>2009</td>\n",
       "      <td>2010-04-04</td>\n",
       "      <td>Oberhausen</td>\n",
       "      <td>Kaiserslautern</td>\n",
       "      <td>2</td>\n",
       "      <td>1</td>\n",
       "      <td>H</td>\n",
       "    </tr>\n",
       "    <tr>\n",
       "      <td>1</td>\n",
       "      <td>2</td>\n",
       "      <td>D2</td>\n",
       "      <td>2009</td>\n",
       "      <td>2009-11-01</td>\n",
       "      <td>Munich 1860</td>\n",
       "      <td>Kaiserslautern</td>\n",
       "      <td>0</td>\n",
       "      <td>1</td>\n",
       "      <td>A</td>\n",
       "    </tr>\n",
       "    <tr>\n",
       "      <td>2</td>\n",
       "      <td>3</td>\n",
       "      <td>D2</td>\n",
       "      <td>2009</td>\n",
       "      <td>2009-10-04</td>\n",
       "      <td>Frankfurt FSV</td>\n",
       "      <td>Kaiserslautern</td>\n",
       "      <td>1</td>\n",
       "      <td>1</td>\n",
       "      <td>D</td>\n",
       "    </tr>\n",
       "    <tr>\n",
       "      <td>3</td>\n",
       "      <td>4</td>\n",
       "      <td>D2</td>\n",
       "      <td>2009</td>\n",
       "      <td>2010-02-21</td>\n",
       "      <td>Frankfurt FSV</td>\n",
       "      <td>Karlsruhe</td>\n",
       "      <td>2</td>\n",
       "      <td>1</td>\n",
       "      <td>H</td>\n",
       "    </tr>\n",
       "    <tr>\n",
       "      <td>4</td>\n",
       "      <td>5</td>\n",
       "      <td>D2</td>\n",
       "      <td>2009</td>\n",
       "      <td>2009-12-06</td>\n",
       "      <td>Ahlen</td>\n",
       "      <td>Karlsruhe</td>\n",
       "      <td>1</td>\n",
       "      <td>3</td>\n",
       "      <td>A</td>\n",
       "    </tr>\n",
       "  </tbody>\n",
       "</table>\n",
       "</div>"
      ],
      "text/plain": [
       "   Match_ID Div  Season        Date       HomeTeam        AwayTeam  FTHG  \\\n",
       "0         1  D2    2009  2010-04-04     Oberhausen  Kaiserslautern     2   \n",
       "1         2  D2    2009  2009-11-01    Munich 1860  Kaiserslautern     0   \n",
       "2         3  D2    2009  2009-10-04  Frankfurt FSV  Kaiserslautern     1   \n",
       "3         4  D2    2009  2010-02-21  Frankfurt FSV       Karlsruhe     2   \n",
       "4         5  D2    2009  2009-12-06          Ahlen       Karlsruhe     1   \n",
       "\n",
       "   FTAG FTR  \n",
       "0     1   H  \n",
       "1     1   A  \n",
       "2     1   D  \n",
       "3     1   H  \n",
       "4     3   A  "
      ]
     },
     "execution_count": 2,
     "metadata": {},
     "output_type": "execute_result"
    }
   ],
   "source": [
    "\n",
    "import pandas as pd\n",
    "cur.execute('''SELECT * FROM matches''')#SQL queries for data extraction from Tables\n",
    "matches = pd.DataFrame(cur.fetchall())\n",
    "matches.columns = (x[0] for x in cur.description)\n",
    "matches.head()"
   ]
  },
  {
   "cell_type": "code",
   "execution_count": 111,
   "metadata": {},
   "outputs": [
    {
     "data": {
      "text/plain": [
       "0      Bayern Munich\n",
       "1           Dortmund\n",
       "2         Leverkusen\n",
       "3         RB Leipzig\n",
       "4         Schalke 04\n",
       "           ...      \n",
       "123          Burnley\n",
       "124        Blackpool\n",
       "125          Swansea\n",
       "126          Cardiff\n",
       "127      Bournemouth\n",
       "Name: TeamName, Length: 128, dtype: object"
      ]
     },
     "execution_count": 111,
     "metadata": {},
     "output_type": "execute_result"
    }
   ],
   "source": [
    "#unique teams dataset Goal The name of the team\n",
    "cur.execute('''SELECT * FROM Unique_Teams''')\n",
    "teams = pd.DataFrame(cur.fetchall())\n",
    "teams.columns = (x[0] for x in cur.description)\n",
    "teams['TeamName']"
   ]
  },
  {
   "cell_type": "code",
   "execution_count": 3,
   "metadata": {},
   "outputs": [
    {
     "data": {
      "text/html": [
       "<div>\n",
       "<style scoped>\n",
       "    .dataframe tbody tr th:only-of-type {\n",
       "        vertical-align: middle;\n",
       "    }\n",
       "\n",
       "    .dataframe tbody tr th {\n",
       "        vertical-align: top;\n",
       "    }\n",
       "\n",
       "    .dataframe thead th {\n",
       "        text-align: right;\n",
       "    }\n",
       "</style>\n",
       "<table border=\"1\" class=\"dataframe\">\n",
       "  <thead>\n",
       "    <tr style=\"text-align: right;\">\n",
       "      <th></th>\n",
       "      <th>Team</th>\n",
       "      <th>wins</th>\n",
       "      <th>losses</th>\n",
       "      <th>draws</th>\n",
       "      <th>goals_scored</th>\n",
       "      <th>goals_conceded</th>\n",
       "    </tr>\n",
       "  </thead>\n",
       "  <tbody>\n",
       "    <tr>\n",
       "      <td>0</td>\n",
       "      <td>Aachen</td>\n",
       "      <td>4</td>\n",
       "      <td>8</td>\n",
       "      <td>6</td>\n",
       "      <td>30</td>\n",
       "      <td>47</td>\n",
       "    </tr>\n",
       "    <tr>\n",
       "      <td>1</td>\n",
       "      <td>Arsenal</td>\n",
       "      <td>12</td>\n",
       "      <td>3</td>\n",
       "      <td>5</td>\n",
       "      <td>74</td>\n",
       "      <td>49</td>\n",
       "    </tr>\n",
       "    <tr>\n",
       "      <td>2</td>\n",
       "      <td>Aston Villa</td>\n",
       "      <td>4</td>\n",
       "      <td>8</td>\n",
       "      <td>8</td>\n",
       "      <td>37</td>\n",
       "      <td>53</td>\n",
       "    </tr>\n",
       "    <tr>\n",
       "      <td>3</td>\n",
       "      <td>Augsburg</td>\n",
       "      <td>6</td>\n",
       "      <td>5</td>\n",
       "      <td>7</td>\n",
       "      <td>36</td>\n",
       "      <td>49</td>\n",
       "    </tr>\n",
       "    <tr>\n",
       "      <td>4</td>\n",
       "      <td>Bayern Munich</td>\n",
       "      <td>15</td>\n",
       "      <td>2</td>\n",
       "      <td>1</td>\n",
       "      <td>77</td>\n",
       "      <td>22</td>\n",
       "    </tr>\n",
       "  </tbody>\n",
       "</table>\n",
       "</div>"
      ],
      "text/plain": [
       "            Team  wins  losses  draws  goals_scored  goals_conceded\n",
       "0         Aachen     4       8      6            30              47\n",
       "1        Arsenal    12       3      5            74              49\n",
       "2    Aston Villa     4       8      8            37              53\n",
       "3       Augsburg     6       5      7            36              49\n",
       "4  Bayern Munich    15       2      1            77              22"
      ]
     },
     "execution_count": 3,
     "metadata": {},
     "output_type": "execute_result"
    }
   ],
   "source": [
    "#The total number of goals scored by the team during the 2011 season\n",
    "cur.execute('''SELECT \n",
    "home.team\n",
    ",SUM(home.win + away.win) as wins\n",
    ",SUM(home.loss + away.loss) as losses\n",
    ",SUM(home.draw + away.draw) as draws\n",
    ",SUM(home.goals_scored + away.goals_scored) as goals_scored\n",
    ",SUM(home.goals_conceded + away.goals_conceded) as goals_conceded\n",
    "FROM\n",
    "(SELECT \n",
    "HomeTeam AS Team\n",
    ",SUM(CASE WHEN FTR = 'H' THEN 1 ELSE 0 END) AS WIN\n",
    ",SUM(CASE WHEN FTR = 'A' THEN 1 ELSE 0 END) AS Loss\n",
    ",SUM(CASE WHEN FTR = 'D' THEN 1 ELSE 0 END) AS Draw\n",
    ",SUM(FTHG) AS Goals_scored\n",
    ",SUM(FTAG) AS Goals_conceded\n",
    "FROM \n",
    "matches\n",
    "WHERE \n",
    "season = '2011'\n",
    "GROUP BY HomeTeam) home\n",
    "LEFT JOIN\n",
    "(SELECT \n",
    "AwayTeam AS Team\n",
    ",CASE WHEN FTR = 'A' THEN 1 ELSE 0 END AS WIN\n",
    ",CASE WHEN FTR = 'H' THEN 1 ELSE 0 END AS Loss\n",
    ",CASE WHEN FTR = 'D' THEN 1 ELSE 0 END AS Draw\n",
    ",SUM(FTAG) AS Goals_scored\n",
    ",SUM(FTHG) AS Goals_conceded\n",
    "FROM \n",
    "matches\n",
    "WHERE \n",
    "season = '2011'\n",
    "GROUP BY AwayTeam) away ON home.team = away.team\n",
    "GROUP BY home.team ''')\n",
    "final = pd.DataFrame(cur.fetchall())\n",
    "final.columns = (x[0] for x in cur.description)\n",
    "final.head()"
   ]
  },
  {
   "cell_type": "code",
   "execution_count": 4,
   "metadata": {},
   "outputs": [
    {
     "data": {
      "text/html": [
       "<div>\n",
       "<style scoped>\n",
       "    .dataframe tbody tr th:only-of-type {\n",
       "        vertical-align: middle;\n",
       "    }\n",
       "\n",
       "    .dataframe tbody tr th {\n",
       "        vertical-align: top;\n",
       "    }\n",
       "\n",
       "    .dataframe thead th {\n",
       "        text-align: right;\n",
       "    }\n",
       "</style>\n",
       "<table border=\"1\" class=\"dataframe\">\n",
       "  <thead>\n",
       "    <tr style=\"text-align: right;\">\n",
       "      <th></th>\n",
       "      <th>Match_ID</th>\n",
       "      <th>Div</th>\n",
       "      <th>Season</th>\n",
       "      <th>Date</th>\n",
       "      <th>HomeTeam</th>\n",
       "      <th>AwayTeam</th>\n",
       "      <th>FTHG</th>\n",
       "      <th>FTAG</th>\n",
       "      <th>FTR</th>\n",
       "    </tr>\n",
       "  </thead>\n",
       "  <tbody>\n",
       "    <tr>\n",
       "      <td>0</td>\n",
       "      <td>1092</td>\n",
       "      <td>D1</td>\n",
       "      <td>2011</td>\n",
       "      <td>2012-03-31</td>\n",
       "      <td>Nurnberg</td>\n",
       "      <td>Bayern Munich</td>\n",
       "      <td>0</td>\n",
       "      <td>1</td>\n",
       "      <td>A</td>\n",
       "    </tr>\n",
       "    <tr>\n",
       "      <td>1</td>\n",
       "      <td>1093</td>\n",
       "      <td>D1</td>\n",
       "      <td>2011</td>\n",
       "      <td>2011-12-11</td>\n",
       "      <td>Stuttgart</td>\n",
       "      <td>Bayern Munich</td>\n",
       "      <td>1</td>\n",
       "      <td>2</td>\n",
       "      <td>A</td>\n",
       "    </tr>\n",
       "    <tr>\n",
       "      <td>2</td>\n",
       "      <td>1094</td>\n",
       "      <td>D1</td>\n",
       "      <td>2011</td>\n",
       "      <td>2011-08-13</td>\n",
       "      <td>Wolfsburg</td>\n",
       "      <td>Bayern Munich</td>\n",
       "      <td>0</td>\n",
       "      <td>1</td>\n",
       "      <td>A</td>\n",
       "    </tr>\n",
       "    <tr>\n",
       "      <td>3</td>\n",
       "      <td>1095</td>\n",
       "      <td>D1</td>\n",
       "      <td>2011</td>\n",
       "      <td>2011-11-27</td>\n",
       "      <td>Mainz</td>\n",
       "      <td>Bayern Munich</td>\n",
       "      <td>3</td>\n",
       "      <td>2</td>\n",
       "      <td>H</td>\n",
       "    </tr>\n",
       "    <tr>\n",
       "      <td>4</td>\n",
       "      <td>1096</td>\n",
       "      <td>D1</td>\n",
       "      <td>2011</td>\n",
       "      <td>2012-02-18</td>\n",
       "      <td>Freiburg</td>\n",
       "      <td>Bayern Munich</td>\n",
       "      <td>0</td>\n",
       "      <td>0</td>\n",
       "      <td>D</td>\n",
       "    </tr>\n",
       "  </tbody>\n",
       "</table>\n",
       "</div>"
      ],
      "text/plain": [
       "   Match_ID Div  Season        Date   HomeTeam       AwayTeam  FTHG  FTAG FTR\n",
       "0      1092  D1    2011  2012-03-31   Nurnberg  Bayern Munich     0     1   A\n",
       "1      1093  D1    2011  2011-12-11  Stuttgart  Bayern Munich     1     2   A\n",
       "2      1094  D1    2011  2011-08-13  Wolfsburg  Bayern Munich     0     1   A\n",
       "3      1095  D1    2011  2011-11-27      Mainz  Bayern Munich     3     2   H\n",
       "4      1096  D1    2011  2012-02-18   Freiburg  Bayern Munich     0     0   D"
      ]
     },
     "execution_count": 4,
     "metadata": {},
     "output_type": "execute_result"
    }
   ],
   "source": [
    "#retrieving 2011 seasons game\n",
    "yr_11 = pd.DataFrame(cur.execute('''SELECT * FROM matches WHERE season == 2011''').fetchall())\n",
    "yr_11.columns = [x[0] for x in cur.description]\n",
    "yr_11.head()"
   ]
  },
  {
   "cell_type": "code",
   "execution_count": 5,
   "metadata": {},
   "outputs": [],
   "source": [
    "away_wins = yr_11[yr_11['FTR'] =='A']['AwayTeam'].value_counts()#counting Away wins for 2011"
   ]
  },
  {
   "cell_type": "code",
   "execution_count": 6,
   "metadata": {},
   "outputs": [],
   "source": [
    "home_wins = yr_11[yr_11['FTR'] =='H']['HomeTeam'].value_counts()#counting home wins for 2011"
   ]
  },
  {
   "cell_type": "code",
   "execution_count": 112,
   "metadata": {},
   "outputs": [
    {
     "data": {
      "text/html": [
       "<div>\n",
       "<style scoped>\n",
       "    .dataframe tbody tr th:only-of-type {\n",
       "        vertical-align: middle;\n",
       "    }\n",
       "\n",
       "    .dataframe tbody tr th {\n",
       "        vertical-align: top;\n",
       "    }\n",
       "\n",
       "    .dataframe thead th {\n",
       "        text-align: right;\n",
       "    }\n",
       "</style>\n",
       "<table border=\"1\" class=\"dataframe\">\n",
       "  <thead>\n",
       "    <tr style=\"text-align: right;\">\n",
       "      <th></th>\n",
       "      <th>team</th>\n",
       "      <th>total_wins</th>\n",
       "    </tr>\n",
       "  </thead>\n",
       "  <tbody>\n",
       "    <tr>\n",
       "      <td>0</td>\n",
       "      <td>Aachen</td>\n",
       "      <td>6</td>\n",
       "    </tr>\n",
       "    <tr>\n",
       "      <td>1</td>\n",
       "      <td>Arsenal</td>\n",
       "      <td>21</td>\n",
       "    </tr>\n",
       "    <tr>\n",
       "      <td>2</td>\n",
       "      <td>Aston Villa</td>\n",
       "      <td>7</td>\n",
       "    </tr>\n",
       "    <tr>\n",
       "      <td>3</td>\n",
       "      <td>Augsburg</td>\n",
       "      <td>8</td>\n",
       "    </tr>\n",
       "    <tr>\n",
       "      <td>4</td>\n",
       "      <td>Bayern Munich</td>\n",
       "      <td>23</td>\n",
       "    </tr>\n",
       "  </tbody>\n",
       "</table>\n",
       "</div>"
      ],
      "text/plain": [
       "            team  total_wins\n",
       "0         Aachen           6\n",
       "1        Arsenal          21\n",
       "2    Aston Villa           7\n",
       "3       Augsburg           8\n",
       "4  Bayern Munich          23"
      ]
     },
     "execution_count": 112,
     "metadata": {},
     "output_type": "execute_result"
    }
   ],
   "source": [
    "#adding home and away wins in a dataframe\n",
    "wins=away_wins+home_wins\n",
    "total_wins=pd.DataFrame({'team':wins.index, 'total_wins':wins.values})\n",
    "total_wins.head()\n"
   ]
  },
  {
   "cell_type": "code",
   "execution_count": 8,
   "metadata": {},
   "outputs": [],
   "source": [
    "away_loss = yr_11[yr_11['FTR'] =='D']['AwayTeam'].value_counts()#counting Away loss for 2011"
   ]
  },
  {
   "cell_type": "code",
   "execution_count": 9,
   "metadata": {},
   "outputs": [],
   "source": [
    "home_loss = yr_11[yr_11['FTR'] =='D']['HomeTeam'].value_counts()#counting home loss for 2011"
   ]
  },
  {
   "cell_type": "code",
   "execution_count": 79,
   "metadata": {},
   "outputs": [
    {
     "data": {
      "text/html": [
       "<div>\n",
       "<style scoped>\n",
       "    .dataframe tbody tr th:only-of-type {\n",
       "        vertical-align: middle;\n",
       "    }\n",
       "\n",
       "    .dataframe tbody tr th {\n",
       "        vertical-align: top;\n",
       "    }\n",
       "\n",
       "    .dataframe thead th {\n",
       "        text-align: right;\n",
       "    }\n",
       "</style>\n",
       "<table border=\"1\" class=\"dataframe\">\n",
       "  <thead>\n",
       "    <tr style=\"text-align: right;\">\n",
       "      <th></th>\n",
       "      <th>team</th>\n",
       "      <th>total_wins</th>\n",
       "      <th>total_loss</th>\n",
       "    </tr>\n",
       "  </thead>\n",
       "  <tbody>\n",
       "    <tr>\n",
       "      <td>0</td>\n",
       "      <td>Aachen</td>\n",
       "      <td>6</td>\n",
       "      <td>13</td>\n",
       "    </tr>\n",
       "    <tr>\n",
       "      <td>1</td>\n",
       "      <td>Arsenal</td>\n",
       "      <td>21</td>\n",
       "      <td>7</td>\n",
       "    </tr>\n",
       "    <tr>\n",
       "      <td>2</td>\n",
       "      <td>Aston Villa</td>\n",
       "      <td>7</td>\n",
       "      <td>17</td>\n",
       "    </tr>\n",
       "    <tr>\n",
       "      <td>3</td>\n",
       "      <td>Augsburg</td>\n",
       "      <td>8</td>\n",
       "      <td>14</td>\n",
       "    </tr>\n",
       "    <tr>\n",
       "      <td>4</td>\n",
       "      <td>Bayern Munich</td>\n",
       "      <td>23</td>\n",
       "      <td>4</td>\n",
       "    </tr>\n",
       "  </tbody>\n",
       "</table>\n",
       "</div>"
      ],
      "text/plain": [
       "            team  total_wins  total_loss\n",
       "0         Aachen           6          13\n",
       "1        Arsenal          21           7\n",
       "2    Aston Villa           7          17\n",
       "3       Augsburg           8          14\n",
       "4  Bayern Munich          23           4"
      ]
     },
     "execution_count": 79,
     "metadata": {},
     "output_type": "execute_result"
    }
   ],
   "source": [
    "#adding home and away loss in a dataframe\n",
    "loss=away_loss+home_loss\n",
    "total_loss=pd.DataFrame({'team':loss.index, 'total_loss':loss.values})\n",
    "result = pd.merge(total_wins, total_loss, on='team')#merging win and loss datframe\n",
    "result.head()"
   ]
  },
  {
   "cell_type": "code",
   "execution_count": 80,
   "metadata": {},
   "outputs": [
    {
     "data": {
      "image/png": "[encoded data removed]",
      "text/plain": [
       "<Figure size 2160x1440 with 1 Axes>"
      ]
     },
     "metadata": {
      "needs_background": "light"
     },
     "output_type": "display_data"
    }
   ],
   "source": [
    "#plotting wins and loss for each team in 2011\n",
    "import matplotlib.pyplot as plt\n",
    "import seaborn as sns\n",
    "# Make the plot\n",
    "\n",
    "plt.figure(figsize=(30,20))\n",
    "ax = sns.barplot(x=\"total_wins\" , y = \"team\", data=result , color='green')\n",
    "ax2 = sns.barplot(x='total_loss', y=\"team\", data=result, color ='yellow')\n",
    "plt.xlabel(\"Win and Loss\")\n",
    "plt.ylabel(\"Teams\")\n",
    "plt.show()"
   ]
  },
  {
   "cell_type": "code",
   "execution_count": 12,
   "metadata": {},
   "outputs": [
    {
     "data": {
      "text/plain": [
       "<sqlite3.Cursor at 0x10a26fc00>"
      ]
     },
     "execution_count": 12,
     "metadata": {},
     "output_type": "execute_result"
    }
   ],
   "source": [
    "cur.execute(\"\"\"Select Season , Date , HomeTeam AS team  ,Div, sum(FTHG) AS home_goals,FTR\n",
    "               From Matches\n",
    "               Where Season == '2011'\n",
    "               and  Div != 'E0'\n",
    "               Group By HomeTeam\n",
    ";\"\"\")"
   ]
  },
  {
   "cell_type": "code",
   "execution_count": 13,
   "metadata": {},
   "outputs": [
    {
     "data": {
      "text/html": [
       "<div>\n",
       "<style scoped>\n",
       "    .dataframe tbody tr th:only-of-type {\n",
       "        vertical-align: middle;\n",
       "    }\n",
       "\n",
       "    .dataframe tbody tr th {\n",
       "        vertical-align: top;\n",
       "    }\n",
       "\n",
       "    .dataframe thead th {\n",
       "        text-align: right;\n",
       "    }\n",
       "</style>\n",
       "<table border=\"1\" class=\"dataframe\">\n",
       "  <thead>\n",
       "    <tr style=\"text-align: right;\">\n",
       "      <th></th>\n",
       "      <th>Season</th>\n",
       "      <th>Date</th>\n",
       "      <th>team</th>\n",
       "      <th>Div</th>\n",
       "      <th>home_goals</th>\n",
       "      <th>FTR</th>\n",
       "    </tr>\n",
       "  </thead>\n",
       "  <tbody>\n",
       "    <tr>\n",
       "      <td>0</td>\n",
       "      <td>2011</td>\n",
       "      <td>2012-03-30</td>\n",
       "      <td>Aachen</td>\n",
       "      <td>D2</td>\n",
       "      <td>15</td>\n",
       "      <td>A</td>\n",
       "    </tr>\n",
       "    <tr>\n",
       "      <td>1</td>\n",
       "      <td>2011</td>\n",
       "      <td>2011-11-06</td>\n",
       "      <td>Augsburg</td>\n",
       "      <td>D1</td>\n",
       "      <td>20</td>\n",
       "      <td>A</td>\n",
       "    </tr>\n",
       "    <tr>\n",
       "      <td>2</td>\n",
       "      <td>2011</td>\n",
       "      <td>2011-11-19</td>\n",
       "      <td>Bayern Munich</td>\n",
       "      <td>D1</td>\n",
       "      <td>49</td>\n",
       "      <td>A</td>\n",
       "    </tr>\n",
       "    <tr>\n",
       "      <td>3</td>\n",
       "      <td>2011</td>\n",
       "      <td>2012-03-02</td>\n",
       "      <td>Bochum</td>\n",
       "      <td>D2</td>\n",
       "      <td>23</td>\n",
       "      <td>A</td>\n",
       "    </tr>\n",
       "    <tr>\n",
       "      <td>4</td>\n",
       "      <td>2011</td>\n",
       "      <td>2011-10-22</td>\n",
       "      <td>Braunschweig</td>\n",
       "      <td>D2</td>\n",
       "      <td>21</td>\n",
       "      <td>A</td>\n",
       "    </tr>\n",
       "    <tr>\n",
       "      <td>5</td>\n",
       "      <td>2011</td>\n",
       "      <td>2011-07-15</td>\n",
       "      <td>Cottbus</td>\n",
       "      <td>D2</td>\n",
       "      <td>18</td>\n",
       "      <td>H</td>\n",
       "    </tr>\n",
       "    <tr>\n",
       "      <td>6</td>\n",
       "      <td>2011</td>\n",
       "      <td>2012-04-11</td>\n",
       "      <td>Dortmund</td>\n",
       "      <td>D1</td>\n",
       "      <td>44</td>\n",
       "      <td>H</td>\n",
       "    </tr>\n",
       "    <tr>\n",
       "      <td>7</td>\n",
       "      <td>2011</td>\n",
       "      <td>2012-02-24</td>\n",
       "      <td>Dresden</td>\n",
       "      <td>D2</td>\n",
       "      <td>30</td>\n",
       "      <td>H</td>\n",
       "    </tr>\n",
       "    <tr>\n",
       "      <td>8</td>\n",
       "      <td>2011</td>\n",
       "      <td>2011-08-26</td>\n",
       "      <td>Duisburg</td>\n",
       "      <td>D2</td>\n",
       "      <td>23</td>\n",
       "      <td>H</td>\n",
       "    </tr>\n",
       "    <tr>\n",
       "      <td>9</td>\n",
       "      <td>2011</td>\n",
       "      <td>2012-03-16</td>\n",
       "      <td>Ein Frankfurt</td>\n",
       "      <td>D2</td>\n",
       "      <td>38</td>\n",
       "      <td>H</td>\n",
       "    </tr>\n",
       "  </tbody>\n",
       "</table>\n",
       "</div>"
      ],
      "text/plain": [
       "   Season        Date           team Div  home_goals FTR\n",
       "0    2011  2012-03-30         Aachen  D2          15   A\n",
       "1    2011  2011-11-06       Augsburg  D1          20   A\n",
       "2    2011  2011-11-19  Bayern Munich  D1          49   A\n",
       "3    2011  2012-03-02         Bochum  D2          23   A\n",
       "4    2011  2011-10-22   Braunschweig  D2          21   A\n",
       "5    2011  2011-07-15        Cottbus  D2          18   H\n",
       "6    2011  2012-04-11       Dortmund  D1          44   H\n",
       "7    2011  2012-02-24        Dresden  D2          30   H\n",
       "8    2011  2011-08-26       Duisburg  D2          23   H\n",
       "9    2011  2012-03-16  Ein Frankfurt  D2          38   H"
      ]
     },
     "execution_count": 13,
     "metadata": {},
     "output_type": "execute_result"
    }
   ],
   "source": [
    "df = pd.DataFrame(cur.fetchall())\n",
    "df.columns = (x[0] for x in cur.description)\n",
    "df.head(10)"
   ]
  },
  {
   "cell_type": "code",
   "execution_count": 15,
   "metadata": {},
   "outputs": [
    {
     "data": {
      "text/plain": [
       "<sqlite3.Cursor at 0x10a26fc00>"
      ]
     },
     "execution_count": 15,
     "metadata": {},
     "output_type": "execute_result"
    }
   ],
   "source": [
    "cur.execute(\"\"\"Select Season , Date , AwayTeam AS team ,Div, sum(FTAG) AS away_goals,FTR\n",
    "               From Matches\n",
    "               Where Season == '2011'\n",
    "               and  Div != 'E0'\n",
    "               Group By AwayTeam\n",
    ";\"\"\")"
   ]
  },
  {
   "cell_type": "code",
   "execution_count": 16,
   "metadata": {},
   "outputs": [
    {
     "data": {
      "text/html": [
       "<div>\n",
       "<style scoped>\n",
       "    .dataframe tbody tr th:only-of-type {\n",
       "        vertical-align: middle;\n",
       "    }\n",
       "\n",
       "    .dataframe tbody tr th {\n",
       "        vertical-align: top;\n",
       "    }\n",
       "\n",
       "    .dataframe thead th {\n",
       "        text-align: right;\n",
       "    }\n",
       "</style>\n",
       "<table border=\"1\" class=\"dataframe\">\n",
       "  <thead>\n",
       "    <tr style=\"text-align: right;\">\n",
       "      <th></th>\n",
       "      <th>Season</th>\n",
       "      <th>Date</th>\n",
       "      <th>team</th>\n",
       "      <th>Div</th>\n",
       "      <th>away_goals</th>\n",
       "      <th>FTR</th>\n",
       "    </tr>\n",
       "  </thead>\n",
       "  <tbody>\n",
       "    <tr>\n",
       "      <td>0</td>\n",
       "      <td>2011</td>\n",
       "      <td>2011-11-20</td>\n",
       "      <td>Aachen</td>\n",
       "      <td>D2</td>\n",
       "      <td>15</td>\n",
       "      <td>H</td>\n",
       "    </tr>\n",
       "    <tr>\n",
       "      <td>1</td>\n",
       "      <td>2011</td>\n",
       "      <td>2011-08-27</td>\n",
       "      <td>Augsburg</td>\n",
       "      <td>D1</td>\n",
       "      <td>16</td>\n",
       "      <td>H</td>\n",
       "    </tr>\n",
       "    <tr>\n",
       "      <td>2</td>\n",
       "      <td>2011</td>\n",
       "      <td>2012-03-31</td>\n",
       "      <td>Bayern Munich</td>\n",
       "      <td>D1</td>\n",
       "      <td>28</td>\n",
       "      <td>A</td>\n",
       "    </tr>\n",
       "    <tr>\n",
       "      <td>3</td>\n",
       "      <td>2011</td>\n",
       "      <td>2011-11-27</td>\n",
       "      <td>Bochum</td>\n",
       "      <td>D2</td>\n",
       "      <td>18</td>\n",
       "      <td>H</td>\n",
       "    </tr>\n",
       "    <tr>\n",
       "      <td>4</td>\n",
       "      <td>2011</td>\n",
       "      <td>2011-11-18</td>\n",
       "      <td>Braunschweig</td>\n",
       "      <td>D2</td>\n",
       "      <td>16</td>\n",
       "      <td>H</td>\n",
       "    </tr>\n",
       "  </tbody>\n",
       "</table>\n",
       "</div>"
      ],
      "text/plain": [
       "   Season        Date           team Div  away_goals FTR\n",
       "0    2011  2011-11-20         Aachen  D2          15   H\n",
       "1    2011  2011-08-27       Augsburg  D1          16   H\n",
       "2    2011  2012-03-31  Bayern Munich  D1          28   A\n",
       "3    2011  2011-11-27         Bochum  D2          18   H\n",
       "4    2011  2011-11-18   Braunschweig  D2          16   H"
      ]
     },
     "execution_count": 16,
     "metadata": {},
     "output_type": "execute_result"
    }
   ],
   "source": [
    "df1 = pd.DataFrame(cur.fetchall())\n",
    "df1.columns = (x[0] for x in cur.description)\n",
    "df1.head()\n",
    "# df1.columns=['Season','Date','Team','Div','Total_Goals','FTR']"
   ]
  },
  {
   "cell_type": "code",
   "execution_count": 37,
   "metadata": {},
   "outputs": [],
   "source": [
    "# total=pd.merge(df,df1,how='inner',on=['Date'])\n",
    "# total"
   ]
  },
  {
   "cell_type": "code",
   "execution_count": null,
   "metadata": {},
   "outputs": [],
   "source": []
  },
  {
   "cell_type": "code",
   "execution_count": 18,
   "metadata": {},
   "outputs": [],
   "source": [
    "# df['Total_Goals'] = df['sum(FTHG)'] + df1['sum(FTAG)']\n",
    "# df"
   ]
  },
  {
   "cell_type": "code",
   "execution_count": 19,
   "metadata": {},
   "outputs": [],
   "source": [
    "# df.drop(['sum(FTHG)','Div'],axis=1,inplace=True)"
   ]
  },
  {
   "cell_type": "code",
   "execution_count": 20,
   "metadata": {},
   "outputs": [],
   "source": [
    "# df.columns=['Season','date','Team','Total_Goals']"
   ]
  },
  {
   "cell_type": "code",
   "execution_count": 21,
   "metadata": {},
   "outputs": [],
   "source": [
    "# for loading weather api \n",
    "import requests\n",
    "import json\n",
    "lat = 52.5200#berlin lattitude\n",
    "long = 13.4050#berlin longitude\n",
    "f_dict = {'Date':[], 'forecast':[]}#dictionary to store date and forecast\n",
    "for Date in list(yr_11['Date']):\n",
    "    weather = requests.get(f'https://api.darksky.net/forecast/481ef956c3470ce5de61e18f0817864a/{lat},{long},{Date}T17:00:00')\n",
    "    f_dict['Date'].append(Date)\n",
    "    f_json = weather.json()\n",
    "    try:\n",
    "        weather = f_json['currently']['summary']\n",
    "    except:\n",
    "        try:\n",
    "            weather = f_json['hourly']['summary']\n",
    "        except:\n",
    "            weather = 'no rain'\n",
    "    f_dict['forecast'].append(weather)"
   ]
  },
  {
   "cell_type": "code",
   "execution_count": 22,
   "metadata": {},
   "outputs": [
    {
     "data": {
      "text/plain": [
       "dict_keys(['Date', 'forecast'])"
      ]
     },
     "execution_count": 22,
     "metadata": {},
     "output_type": "execute_result"
    }
   ],
   "source": [
    "f_dict.keys()"
   ]
  },
  {
   "cell_type": "code",
   "execution_count": 23,
   "metadata": {},
   "outputs": [
    {
     "data": {
      "text/plain": [
       "dict_values([['2012-03-31', '2011-12-11', '2011-08-13', '2011-11-27', '2012-02-18', '2012-01-20', '2012-02-04', '2012-04-21', '2011-09-18', '2011-10-23', '2011-10-01', '2012-03-03', '2011-08-27', '2012-03-17', '2011-11-06', '2012-05-05', '2012-04-11', '2011-08-27', '2011-12-17', '2012-02-18', '2012-02-03', '2011-08-13', '2011-10-29', '2012-01-22', '2011-12-03', '2012-04-14', '2011-09-18', '2012-03-25', '2012-03-10', '2012-04-07', '2011-11-19', '2011-10-14', '2011-09-24', '2012-04-28', '2011-12-18', '2012-03-02', '2012-03-16', '2012-02-17', '2011-08-06', '2011-11-04', '2011-09-16', '2011-07-15', '2011-11-27', '2012-05-06', '2012-02-11', '2011-10-02', '2012-03-30', '2012-04-11', '2011-10-22', '2012-04-21', '2011-08-26', '2011-08-07', '2012-02-24', '2011-12-18', '2011-07-17', '2012-04-11', '2011-11-06', '2012-02-12', '2011-08-22', '2011-10-23', '2011-09-09', '2012-04-01', '2011-09-25', '2012-04-20', '2011-11-25', '2012-03-25', '2012-05-06', '2012-03-09', '2011-11-07', '2011-09-10', '2011-10-14', '2011-08-21', '2011-09-26', '2012-04-07', '2012-03-26', '2011-07-15', '2012-05-06', '2011-10-30', '2012-02-13', '2011-08-07', '2012-02-26', '2011-12-19', '2012-03-11', '2011-11-26', '2012-04-23', '2011-12-03', '2011-12-16', '2011-10-22', '2011-08-13', '2011-11-05', '2012-04-28', '2012-04-10', '2012-04-15', '2012-02-18', '2012-02-05', '2012-03-04', '2011-09-17', '2012-03-31', '2011-10-01', '2011-08-27', '2012-01-21', '2012-03-18', '2011-08-06', '2011-09-24', '2012-03-10', '2011-09-10', '2012-04-22', '2011-08-20', '2012-03-17', '2012-02-10', '2011-10-22', '2011-11-26', '2012-02-25', '2011-12-10', '2012-03-31', '2012-05-05', '2012-04-10', '2012-01-29', '2011-11-05', '2011-08-20', '2012-04-11', '2011-12-10', '2011-10-16', '2012-03-31', '2012-03-11', '2012-04-21', '2011-09-10', '2011-08-05', '2012-03-23', '2012-02-12', '2011-11-26', '2012-05-05', '2011-09-23', '2012-02-24', '2011-11-05', '2012-01-28', '2012-01-28', '2012-05-05', '2012-02-25', '2011-10-30', '2011-10-15', '2011-12-11', '2012-04-11', '2012-02-11', '2011-09-10', '2011-08-06', '2011-11-05', '2011-08-20', '2011-11-26', '2012-03-09', '2011-09-24', '2012-03-24', '2012-04-21', '2011-10-15', '2011-11-18', '2012-04-29', '2011-09-25', '2011-12-09', '2011-12-03', '2012-04-15', '2012-04-08', '2012-02-11', '2011-10-29', '2011-09-10', '2012-03-12', '2011-08-21', '2012-02-26', '2012-03-24', '2011-08-07', '2011-07-23', '2011-09-24', '2011-11-26', '2012-03-24', '2011-11-18', '2012-04-21', '2012-04-08', '2012-02-11', '2012-02-25', '2012-05-05', '2012-03-10', '2012-01-28', '2011-09-09', '2011-10-15', '2011-12-10', '2011-08-07', '2011-10-28', '2011-08-20', '2012-04-14', '2012-01-27', '2012-03-10', '2012-02-25', '2012-04-28', '2011-12-17', '2011-10-15', '2012-02-12', '2012-03-25', '2011-12-04', '2011-11-19', '2011-09-11', '2012-04-07', '2011-08-06', '2011-10-29', '2011-09-24', '2011-08-20', '2012-04-01', '2012-04-11', '2011-09-11', '2012-01-28', '2011-11-06', '2012-05-05', '2012-03-03', '2011-12-09', '2011-11-26', '2011-10-23', '2012-03-18', '2012-04-22', '2012-02-11', '2011-10-02', '2012-02-26', '2011-08-06', '2011-08-21', '2011-12-17', '2011-11-04', '2012-01-21', '2011-08-26', '2012-03-30', '2012-02-04', '2011-09-30', '2011-10-22', '2012-03-16', '2012-04-10', '2012-03-03', '2012-04-28', '2011-08-13', '2012-02-19', '2011-09-16', '2012-04-21', '2011-11-27', '2011-11-19', '2011-10-02', '2012-04-07', '2012-03-17', '2012-04-13', '2011-12-03', '2012-03-03', '2012-01-21', '2012-04-28', '2012-02-05', '2011-09-17', '2012-02-18', '2011-10-21', '2011-08-14', '2011-10-29', '2011-08-27', '2011-12-17', '2011-11-27', '2012-04-11', '2011-09-12', '2012-03-30', '2011-12-17', '2011-10-21', '2012-02-12', '2011-08-20', '2012-03-09', '2012-05-06', '2011-11-05', '2012-03-18', '2012-04-20', '2011-07-18', '2012-02-25', '2011-08-08', '2011-10-01', '2012-03-24', '2011-11-19', '2012-04-14', '2011-10-16', '2011-09-24', '2012-04-08', '2011-12-18', '2011-08-13', '2012-04-28', '2012-02-26', '2012-02-11', '2012-01-21', '2012-03-11', '2012-02-04', '2011-10-29', '2011-09-10', '2011-12-03', '2011-10-21', '2011-09-30', '2012-03-18', '2012-02-05', '2011-08-14', '2012-02-19', '2011-12-09', '2012-03-04', '2012-04-29', '2011-07-24', '2011-11-06', '2012-04-10', '2011-09-16', '2011-08-26', '2011-12-03', '2012-03-31', '2012-04-22', '2011-09-25', '2012-01-21', '2011-11-19', '2011-10-15', '2012-04-07', '2011-10-29', '2011-08-21', '2011-08-13', '2012-02-11', '2011-09-10', '2012-02-25', '2012-04-28', '2012-04-14', '2011-12-03', '2012-03-24', '2012-03-10', '2011-12-17', '2012-03-17', '2011-10-01', '2011-08-13', '2012-04-28', '2012-02-17', '2012-03-31', '2011-12-18', '2012-01-22', '2012-04-07', '2011-12-13', '2012-03-03', '2011-10-22', '2011-08-28', '2012-04-14', '2011-12-03', '2011-09-17', '2012-02-04', '2012-04-29', '2011-08-06', '2012-04-15', '2012-03-23', '2011-10-14', '2011-09-25', '2011-10-30', '2011-08-19', '2012-03-14', '2011-12-17', '2011-07-17', '2012-03-10', '2012-04-08', '2012-02-24', '2011-12-04', '2011-11-18', '2011-09-11', '2011-08-12', '2012-04-13', '2012-03-18', '2012-03-05', '2011-12-02', '2011-10-01', '2012-04-07', '2011-12-11', '2012-02-17', '2011-09-19', '2011-10-28', '2012-04-29', '2011-11-19', '2011-08-28', '2011-07-25', '2012-04-02', '2012-02-04', '2011-08-06', '2012-03-03', '2011-11-05', '2011-10-01', '2011-10-22', '2011-12-10', '2012-02-19', '2011-11-26', '2012-05-05', '2012-03-31', '2012-04-20', '2011-08-19', '2012-03-17', '2011-09-17', '2012-04-11', '2012-01-28', '2011-08-27', '2012-03-17', '2011-10-22', '2012-05-05', '2011-08-28', '2012-02-18', '2011-09-17', '2012-02-04', '2012-04-01', '2011-08-07', '2012-04-21', '2011-12-10', '2012-04-10', '2012-03-04', '2012-01-29', '2011-11-05', '2011-11-25', '2011-10-01', '2012-02-06', '2011-12-11', '2011-10-28', '2012-04-15', '2011-11-21', '2011-07-22', '2012-03-04', '2011-08-13', '2011-08-29', '2012-04-05', '2012-02-17', '2012-03-25', '2011-10-16', '2011-12-02', '2012-04-29', '2011-09-17', '2011-09-24', '2011-08-13', '2012-04-20', '2012-02-03', '2012-04-10', '2011-11-28', '2012-03-02', '2011-08-26', '2012-03-31', '2011-07-23', '2011-10-22', '2011-11-05', '2012-05-06', '2011-09-18', '2011-10-02', '2012-02-19', '2011-12-12', '2012-03-17', '2011-11-20', '2011-08-19', '2012-03-23', '2011-09-09', '2012-04-14', '2011-10-16', '2012-05-06', '2011-12-18', '2012-02-10', '2011-09-24', '2012-02-27', '2011-08-05', '2012-03-09', '2012-04-08', '2011-10-28', '2011-11-26', '2011-07-16', '2011-07-15', '2012-05-06', '2011-11-25', '2011-09-17', '2012-03-02', '2012-02-03', '2012-03-16', '2011-10-23', '2012-04-01', '2012-02-18', '2012-04-22', '2011-11-04', '2011-08-12', '2011-12-16', '2011-09-30', '2011-08-28', '2012-04-10', '2011-11-18', '2012-04-29', '2012-04-07', '2011-09-23', '2011-10-14', '2012-03-24', '2011-07-24', '2012-02-26', '2012-03-11', '2011-10-31', '2011-12-09', '2011-09-09', '2012-02-05', '2012-04-13', '2011-12-02', '2012-02-20', '2011-08-12', '2012-04-05', '2011-12-04', '2011-09-11', '2012-03-25', '2011-09-23', '2011-08-14', '2011-10-16', '2011-10-29', '2012-04-29', '2012-04-14', '2011-12-11', '2011-07-22', '2011-11-20', '2011-08-20', '2012-02-05', '2012-02-25', '2012-03-10', '2011-07-17', '2011-10-02', '2011-12-16', '2012-04-22', '2012-03-03', '2011-08-21', '2011-08-28', '2011-09-18', '2012-05-06', '2012-02-12', '2011-11-25', '2011-08-05', '2012-04-11', '2012-03-30', '2011-10-21', '2011-11-06', '2012-03-17', '2011-08-27', '2012-03-24', '2011-11-20', '2011-12-17', '2012-04-07', '2012-04-28', '2012-02-04', '2011-10-30', '2011-12-04', '2012-03-03', '2011-09-17', '2011-10-15', '2012-02-18', '2012-04-14', '2011-08-14', '2011-10-01', '2012-01-21', '2011-11-20', '2012-01-28', '2012-03-24', '2012-02-11', '2011-12-02', '2011-10-15', '2012-04-07', '2012-03-10', '2011-09-25', '2012-05-05', '2011-09-10', '2011-10-29', '2011-08-06', '2011-12-10', '2011-08-20', '2012-04-15', '2012-02-25', '2011-12-04', '2011-09-18', '2011-11-20', '2011-08-27', '2012-02-03', '2011-10-23', '2012-03-16', '2011-08-14', '2011-12-10', '2011-09-30', '2012-03-04', '2012-02-18', '2012-04-29', '2012-04-01', '2011-07-22', '2012-04-13', '2012-04-10', '2012-03-23', '2011-11-27', '2011-10-15', '2011-11-04', '2011-08-19', '2012-02-10', '2011-12-16', '2011-09-11', '2011-07-16', '2012-03-11', '2011-09-23', '2012-04-11', '2011-10-23', '2012-05-06', '2011-08-05', '2012-02-24', '2012-04-21', '2012-04-29', '2011-10-17', '2011-12-05', '2012-04-16', '2011-10-30', '2012-04-05', '2012-02-04', '2011-10-03', '2012-03-03', '2012-03-19', '2011-11-19', '2012-02-19', '2011-07-24', '2011-12-10', '2011-08-15', '2011-08-27', '2011-09-16', '2011-08-13', '2011-08-13', '2011-08-13', '2011-08-13', '2011-08-13', '2011-08-13', '2011-08-14', '2011-08-14', '2011-08-15', '2011-08-20', '2011-08-20', '2011-08-20', '2011-08-20', '2011-08-20', '2011-08-20', '2011-08-21', '2011-08-21', '2011-08-21', '2011-08-22', '2011-08-27', '2011-08-27', '2011-08-27', '2011-08-27', '2011-08-27', '2011-08-27', '2011-08-28', '2011-08-28', '2011-08-28', '2011-08-28', '2011-09-10', '2011-09-10', '2011-09-10', '2011-09-10', '2011-09-10', '2011-09-10', '2011-09-10', '2011-09-11', '2011-09-11', '2011-09-12', '2011-09-17', '2011-09-17', '2011-09-17', '2011-09-17', '2011-09-17', '2011-09-17', '2011-09-18', '2011-09-18', '2011-09-18', '2011-09-18', '2011-09-24', '2011-09-24', '2011-09-24', '2011-09-24', '2011-09-24', '2011-09-24', '2011-09-24', '2011-09-24', '2011-09-25', '2011-09-26', '2011-10-01', '2011-10-01', '2011-10-01', '2011-10-01', '2011-10-01', '2011-10-01', '2011-10-02', '2011-10-02', '2011-10-02', '2011-10-02', '2011-10-15', '2011-10-15', '2011-10-15', '2011-10-15', '2011-10-15', '2011-10-15', '2011-10-15', '2011-10-16', '2011-10-16', '2011-10-16', '2011-10-22', '2011-10-22', '2011-10-22', '2011-10-22', '2011-10-22', '2011-10-23', '2011-10-23', '2011-10-23', '2011-10-23', '2011-10-23', '2011-10-29', '2011-10-29', '2011-10-29', '2011-10-29', '2011-10-29', '2011-10-29', '2011-10-29', '2011-10-29', '2011-10-30', '2011-10-31', '2011-11-05', '2011-11-05', '2011-11-05', '2011-11-05', '2011-11-05', '2011-11-05', '2011-11-05', '2011-11-06', '2011-11-06', '2011-11-06', '2011-11-19', '2011-11-19', '2011-11-19', '2011-11-19', '2011-11-19', '2011-11-19', '2011-11-19', '2011-11-19', '2011-11-20', '2011-11-21', '2011-11-26', '2011-11-26', '2011-11-26', '2011-11-26', '2011-11-26', '2011-11-26', '2011-11-26', '2011-11-26', '2011-11-27', '2011-11-27', '2011-12-03', '2011-12-03', '2011-12-03', '2011-12-03', '2011-12-03', '2011-12-03', '2011-12-03', '2011-12-04', '2011-12-04', '2011-12-05', '2011-12-10', '2011-12-10', '2011-12-10', '2011-12-10', '2011-12-10', '2011-12-10', '2011-12-10', '2011-12-11', '2011-12-11', '2011-12-12', '2011-12-17', '2011-12-17', '2011-12-17', '2011-12-17', '2011-12-17', '2011-12-17', '2011-12-18', '2011-12-18', '2011-12-18', '2011-12-18', '2011-12-20', '2011-12-20', '2011-12-21', '2011-12-21', '2011-12-21', '2011-12-21', '2011-12-21', '2011-12-21', '2011-12-21', '2011-12-22', '2011-12-26', '2011-12-26', '2011-12-26', '2011-12-26', '2011-12-26', '2011-12-26', '2011-12-26', '2011-12-27', '2011-12-27', '2011-12-27', '2011-12-30', '2011-12-31', '2011-12-31', '2011-12-31', '2011-12-31', '2011-12-31', '2011-12-31', '2011-12-31', '2012-01-01', '2012-01-01', '2012-01-02', '2012-01-02', '2012-01-02', '2012-01-02', '2012-01-02', '2012-01-03', '2012-01-03', '2012-01-03', '2012-01-04', '2012-01-04', '2012-01-11', '2012-01-14', '2012-01-14', '2012-01-14', '2012-01-14', '2012-01-14', '2012-01-14', '2012-01-14', '2012-01-15', '2012-01-15', '2012-01-16', '2012-01-21', '2012-01-21', '2012-01-21', '2012-01-21', '2012-01-21', '2012-01-21', '2012-01-21', '2012-01-21', '2012-01-22', '2012-01-22', '2012-01-31', '2012-01-31', '2012-01-31', '2012-01-31', '2012-01-31', '2012-02-01', '2012-02-01', '2012-02-01', '2012-02-01', '2012-02-01', '2012-02-04', '2012-02-04', '2012-02-04', '2012-02-04', '2012-02-04', '2012-02-04', '2012-02-04', '2012-02-05', '2012-02-05', '2012-02-06', '2012-02-11', '2012-02-11', '2012-02-11', '2012-02-11', '2012-02-11', '2012-02-11', '2012-02-11', '2012-02-11', '2012-02-12', '2012-02-12', '2012-02-25', '2012-02-25', '2012-02-25', '2012-02-25', '2012-02-25', '2012-02-25', '2012-02-26', '2012-02-26', '2012-02-26', '2012-03-03', '2012-03-03', '2012-03-03', '2012-03-03', '2012-03-03', '2012-03-03', '2012-03-03', '2012-03-04', '2012-03-04', '2012-03-04', '2012-03-10', '2012-03-10', '2012-03-10', '2012-03-10', '2012-03-10', '2012-03-10', '2012-03-11', '2012-03-11', '2012-03-11', '2012-03-12', '2012-03-13', '2012-03-17', '2012-03-17', '2012-03-18', '2012-03-18', '2012-03-20', '2012-03-21', '2012-03-21', '2012-03-21', '2012-03-21', '2012-03-24', '2012-03-24', '2012-03-24', '2012-03-24', '2012-03-24', '2012-03-24', '2012-03-24', '2012-03-24', '2012-03-25', '2012-03-26', '2012-03-31', '2012-03-31', '2012-03-31', '2012-03-31', '2012-03-31', '2012-03-31', '2012-03-31', '2012-04-01', '2012-04-01', '2012-04-02', '2012-04-06', '2012-04-07', '2012-04-07', '2012-04-07', '2012-04-07', '2012-04-07', '2012-04-07', '2012-04-07', '2012-04-08', '2012-04-08', '2012-04-09', '2012-04-09', '2012-04-09', '2012-04-09', '2012-04-09', '2012-04-10', '2012-04-11', '2012-04-11', '2012-04-11', '2012-04-11', '2012-04-14', '2012-04-14', '2012-04-14', '2012-04-14', '2012-04-15', '2012-04-16', '2012-04-21', '2012-04-21', '2012-04-21', '2012-04-21', '2012-04-21', '2012-04-21', '2012-04-21', '2012-04-22', '2012-04-22', '2012-04-22', '2012-04-24', '2012-04-28', '2012-04-28', '2012-04-28', '2012-04-28', '2012-04-28', '2012-04-28', '2012-04-28', '2012-04-29', '2012-04-29', '2012-04-30', '2012-05-01', '2012-05-01', '2012-05-02', '2012-05-02', '2012-05-05', '2012-05-06', '2012-05-06', '2012-05-06', '2012-05-06', '2012-05-06', '2012-05-06', '2012-05-06', '2012-05-07', '2012-05-08', '2012-05-13', '2012-05-13', '2012-05-13', '2012-05-13', '2012-05-13', '2012-05-13', '2012-05-13', '2012-05-13', '2012-05-13', '2012-05-13'], ['Mostly Cloudy', 'Mostly cloudy throughout the day.', 'Partly Cloudy', 'Mostly Cloudy', 'Mostly Cloudy', 'Mostly Cloudy', 'Mostly Cloudy', 'Partly Cloudy', 'Mostly Cloudy', 'no rain', 'no rain', 'no rain', 'Mostly Cloudy', 'no rain', 'Foggy overnight and in the morning.', 'Mostly Cloudy', 'Mostly Cloudy', 'Mostly Cloudy', 'Partly Cloudy', 'Mostly Cloudy', 'Mostly Cloudy', 'Partly Cloudy', 'Foggy overnight and in the morning.', 'Mostly Cloudy', 'Mostly Cloudy', 'Partly cloudy throughout the day.', 'Mostly Cloudy', 'Foggy in the morning.', 'Mostly Cloudy', 'Mostly Cloudy', 'Mostly cloudy throughout the day.', 'Mostly Cloudy', 'Clear', 'no rain', 'Mostly Cloudy', 'Overcast', 'no rain', 'Mostly Cloudy', 'Mostly Cloudy', 'no rain', 'Partly Cloudy', 'Mostly Cloudy', 'Mostly Cloudy', 'Mostly Cloudy', 'Mostly cloudy throughout the day.', 'no rain', 'Mostly Cloudy', 'Mostly Cloudy', 'no rain', 'Partly Cloudy', 'no rain', 'Mostly Cloudy', 'Mostly Cloudy', 'Mostly Cloudy', 'Rain overnight and in the evening.', 'Mostly Cloudy', 'Foggy overnight and in the morning.', 'Mostly Cloudy', 'Partly cloudy throughout the day.', 'no rain', 'Mostly Cloudy', 'Mostly Cloudy', 'Clear', 'Partly Cloudy', 'Drizzle overnight and in the evening.', 'Foggy in the morning.', 'Mostly Cloudy', 'Partly cloudy throughout the day.', 'no rain', 'Mostly Cloudy', 'Mostly Cloudy', 'no rain', 'no rain', 'Mostly Cloudy', 'no rain', 'Mostly Cloudy', 'Mostly Cloudy', 'Mostly Cloudy', 'Mostly Cloudy', 'Mostly Cloudy', 'Clear', 'Mostly Cloudy', 'Mostly Cloudy', 'Mostly Cloudy', 'Mostly Cloudy', 'Mostly Cloudy', 'Mostly Cloudy', 'no rain', 'Partly Cloudy', 'Foggy in the morning.', 'no rain', 'Mostly Cloudy', 'Mostly Cloudy', 'Mostly Cloudy', 'Mostly Cloudy', 'Clear', 'Mostly Cloudy', 'Mostly Cloudy', 'no rain', 'Mostly Cloudy', 'Mostly Cloudy', 'Mostly Cloudy', 'Mostly Cloudy', 'Clear', 'Mostly Cloudy', 'Mostly Cloudy', 'Clear', 'Partly cloudy throughout the day.', 'no rain', 'Partly Cloudy', 'no rain', 'Mostly Cloudy', 'Mostly Cloudy', 'Mostly Cloudy', 'Mostly Cloudy', 'Mostly Cloudy', 'Mostly Cloudy', 'no rain', 'Foggy in the morning.', 'Partly cloudy throughout the day.', 'Mostly Cloudy', 'Mostly Cloudy', 'no rain', 'Mostly Cloudy', 'Mostly Cloudy', 'Partly Cloudy', 'Mostly Cloudy', 'Mostly Cloudy', 'Clear', 'Mostly Cloudy', 'Mostly Cloudy', 'Mostly Cloudy', 'Clear', 'Mostly Cloudy', 'Foggy in the morning.', 'Overcast', 'Overcast', 'Mostly Cloudy', 'Mostly Cloudy', 'Mostly Cloudy', 'no rain', 'Mostly cloudy throughout the day.', 'Mostly Cloudy', 'Mostly cloudy throughout the day.', 'Mostly Cloudy', 'Mostly Cloudy', 'Foggy in the morning.', 'Partly cloudy throughout the day.', 'Mostly Cloudy', 'Partly cloudy throughout the day.', 'Clear', 'no rain', 'Partly Cloudy', 'no rain', 'Mostly Cloudy', 'no rain', 'Clear', 'Mostly Cloudy', 'Mostly Cloudy', 'Mostly Cloudy', 'no rain', 'Mostly cloudy throughout the day.', 'Foggy overnight and in the morning.', 'Mostly Cloudy', 'Mostly Cloudy', 'no rain', 'Clear', 'no rain', 'Mostly Cloudy', 'Mostly Cloudy', 'Clear', 'Mostly Cloudy', 'no rain', 'Mostly Cloudy', 'Partly Cloudy', 'no rain', 'Mostly cloudy throughout the day.', 'Mostly Cloudy', 'Mostly Cloudy', 'Mostly Cloudy', 'Overcast', 'Mostly Cloudy', 'no rain', 'Mostly Cloudy', 'Mostly Cloudy', 'Mostly cloudy throughout the day.', 'Partly cloudy throughout the day.', 'Partly cloudy throughout the day.', 'no rain', 'Mostly Cloudy', 'Mostly Cloudy', 'no rain', 'Partly Cloudy', 'no rain', 'Mostly Cloudy', 'Foggy in the morning.', 'Mostly Cloudy', 'Mostly cloudy throughout the day.', 'Mostly Cloudy', 'Mostly Cloudy', 'Mostly Cloudy', 'Foggy overnight and in the morning.', 'Clear', 'Partly cloudy throughout the day.', 'Mostly Cloudy', 'Mostly Cloudy', 'Mostly Cloudy', 'Overcast', 'Foggy overnight and in the morning.', 'Mostly Cloudy', 'no rain', 'Mostly Cloudy', 'Mostly Cloudy', 'no rain', 'Mostly Cloudy', 'Clear', 'Mostly cloudy throughout the day.', 'no rain', 'Clear', 'Mostly Cloudy', 'no rain', 'Partly Cloudy', 'no rain', 'Mostly Cloudy', 'no rain', 'Mostly Cloudy', 'Mostly Cloudy', 'no rain', 'no rain', 'no rain', 'Mostly Cloudy', 'no rain', 'no rain', 'Partly Cloudy', 'Partly Cloudy', 'Partly Cloudy', 'Partly Cloudy', 'Mostly Cloudy', 'Mostly cloudy throughout the day.', 'no rain', 'Mostly Cloudy', 'no rain', 'Partly Cloudy', 'Mostly Cloudy', 'no rain', 'Mostly Cloudy', 'no rain', 'Mostly Cloudy', 'Mostly Cloudy', 'Mostly Cloudy', 'Partly Cloudy', 'Mostly Cloudy', 'Foggy overnight and in the morning.', 'Mostly Cloudy', 'Partly Cloudy', 'Mostly Cloudy', 'Mostly Cloudy', 'Partly Cloudy', 'Mostly Cloudy', 'Partly Cloudy', 'Partly Cloudy', 'Mostly Cloudy', 'Partly cloudy throughout the day.', 'Partly cloudy throughout the day.', 'Mostly Cloudy', 'Foggy in the morning.', 'Mostly Cloudy', 'Partly Cloudy', 'Light rain overnight and in the morning.', 'Mostly Cloudy', 'Light Rain', 'no rain', 'no rain', 'Mostly cloudy throughout the day.', 'Partly cloudy throughout the day.', 'no rain', 'Clear', 'no rain', 'Mostly Cloudy', 'Partly Cloudy', 'no rain', 'Clear', 'Mostly cloudy throughout the day.', 'Mostly Cloudy', 'Mostly Cloudy', 'Mostly Cloudy', 'Foggy overnight and in the morning.', 'Mostly Cloudy', 'Mostly Cloudy', 'Partly Cloudy', 'no rain', 'Mostly Cloudy', 'Mostly Cloudy', 'Mostly Cloudy', 'Partly Cloudy', 'Mostly Cloudy', 'Clear', 'no rain', 'Mostly Cloudy', 'Foggy overnight and in the morning.', 'Mostly Cloudy', 'Partly Cloudy', 'no rain', 'Mostly Cloudy', 'Mostly Cloudy', 'Clear', 'Clear', 'Mostly Cloudy', 'Mostly cloudy throughout the day.', 'no rain', 'Mostly Cloudy', 'Foggy overnight and in the morning.', 'no rain', 'Partly Cloudy', 'Mostly cloudy throughout the day.', 'Mostly Cloudy', 'Mostly Cloudy', 'no rain', 'Partly cloudy throughout the day.', 'Mostly Cloudy', 'no rain', 'Mostly Cloudy', 'Partly Cloudy', 'no rain', 'no rain', 'Partly Cloudy', 'no rain', 'Mostly Cloudy', 'Mostly Cloudy', 'Mostly Cloudy', 'Mostly Cloudy', 'Mostly Cloudy', 'Light Rain', 'no rain', 'no rain', 'Mostly Cloudy', 'Partly cloudy throughout the day.', 'Mostly Cloudy', 'Mostly Cloudy', 'Mostly Cloudy', 'no rain', 'Mostly Cloudy', 'Mostly Cloudy', 'Clear', 'Mostly Cloudy', 'Clear', 'Mostly Cloudy', 'Mostly Cloudy', 'Mostly Cloudy', 'Partly Cloudy', 'Rain overnight and in the evening.', 'Mostly Cloudy', 'no rain', 'Mostly Cloudy', 'Mostly Cloudy', 'Mostly Cloudy', 'Mostly Cloudy', 'Mostly Cloudy', 'Partly Cloudy', 'Mostly Cloudy', 'no rain', 'Mostly Cloudy', 'no rain', 'Mostly Cloudy', 'Mostly cloudy throughout the day.', 'Mostly Cloudy', 'Mostly Cloudy', 'Mostly cloudy throughout the day.', 'no rain', 'Mostly cloudy throughout the day.', 'Mostly Cloudy', 'Mostly Cloudy', 'Mostly Cloudy', 'Mostly Cloudy', 'Mostly Cloudy', 'no rain', 'Foggy in the morning.', 'no rain', 'no rain', 'Mostly Cloudy', 'Partly Cloudy', 'Mostly Cloudy', 'Mostly Cloudy', 'Mostly Cloudy', 'Partly Cloudy', 'Mostly Cloudy', 'no rain', 'Mostly Cloudy', 'Mostly Cloudy', 'Overcast', 'Mostly Cloudy', 'no rain', 'no rain', 'Mostly Cloudy', 'Mostly Cloudy', 'Mostly Cloudy', 'Mostly Cloudy', 'Mostly Cloudy', 'Mostly Cloudy', 'Mostly Cloudy', 'Partly Cloudy', 'Mostly Cloudy', 'Mostly Cloudy', 'Clear', 'no rain', 'Foggy in the morning.', 'Drizzle overnight and in the evening.', 'no rain', 'no rain', 'Mostly cloudy throughout the day.', 'Mostly cloudy throughout the day.', 'Mostly Cloudy', 'Mostly Cloudy', 'Light Rain', 'Clear', 'Partly Cloudy', 'Mostly Cloudy', 'Mostly Cloudy', 'Mostly Cloudy', 'Foggy in the morning.', 'no rain', 'Mostly Cloudy', 'no rain', 'Mostly Cloudy', 'Clear', 'Partly Cloudy', 'Partly Cloudy', 'Mostly Cloudy', 'Mostly Cloudy', 'no rain', 'Overcast', 'no rain', 'Mostly Cloudy', 'Mostly Cloudy', 'no rain', 'Foggy in the morning.', 'Mostly Cloudy', 'Mostly Cloudy', 'no rain', 'Partly Cloudy', 'Mostly Cloudy', 'no rain', 'no rain', 'Mostly Cloudy', 'Clear', 'Mostly Cloudy', 'Partly cloudy throughout the day.', 'no rain', 'Mostly Cloudy', 'Mostly Cloudy', 'Partly Cloudy', 'Clear', 'Mostly Cloudy', 'Mostly Cloudy', 'Partly cloudy throughout the day.', 'no rain', 'Mostly cloudy throughout the day.', 'Mostly Cloudy', 'no rain', 'Mostly Cloudy', 'Mostly Cloudy', 'Drizzle overnight and in the evening.', 'Mostly Cloudy', 'Overcast', 'Mostly Cloudy', 'no rain', 'no rain', 'Mostly Cloudy', 'Mostly Cloudy', 'Clear', 'no rain', 'Mostly Cloudy', 'Mostly Cloudy', 'no rain', 'Mostly Cloudy', 'Mostly Cloudy', 'Mostly Cloudy', 'no rain', 'Mostly Cloudy', 'Clear', 'Mostly Cloudy', 'no rain', 'Mostly Cloudy', 'Clear', 'Mostly Cloudy', 'Mostly Cloudy', 'Mostly Cloudy', 'Mostly Cloudy', 'Mostly Cloudy', 'Partly Cloudy', 'Mostly Cloudy', 'Mostly Cloudy', 'Mostly Cloudy', 'Mostly Cloudy', 'Mostly Cloudy', 'Mostly Cloudy', 'Foggy in the morning.', 'Clear', 'Mostly Cloudy', 'no rain', 'Foggy overnight and in the morning.', 'no rain', 'Partly cloudy throughout the day.', 'Mostly cloudy throughout the day.', 'Light Rain', 'no rain', 'Partly cloudy throughout the day.', 'Mostly Cloudy', 'Mostly Cloudy', 'Mostly Cloudy', 'Rain overnight and in the evening.', 'no rain', 'Mostly Cloudy', 'Clear', 'no rain', 'no rain', 'Mostly Cloudy', 'Mostly Cloudy', 'Mostly Cloudy', 'Mostly Cloudy', 'Drizzle overnight and in the evening.', 'Mostly Cloudy', 'Mostly Cloudy', 'Mostly Cloudy', 'Partly Cloudy', 'Foggy overnight and in the morning.', 'no rain', 'Mostly Cloudy', 'no rain', 'no rain', 'Partly Cloudy', 'Mostly Cloudy', 'no rain', 'Mostly Cloudy', 'Mostly Cloudy', 'Mostly Cloudy', 'no rain', 'Mostly Cloudy', 'no rain', 'Mostly Cloudy', 'Partly cloudy throughout the day.', 'Mostly Cloudy', 'no rain', 'Mostly Cloudy', 'no rain', 'Overcast', 'no rain', 'Mostly cloudy throughout the day.', 'Mostly Cloudy', 'no rain', 'Mostly Cloudy', 'Mostly Cloudy', 'Clear', 'Mostly Cloudy', 'Mostly Cloudy', 'Foggy overnight and in the morning.', 'Mostly Cloudy', 'Mostly Cloudy', 'Partly cloudy throughout the day.', 'Mostly Cloudy', 'Mostly Cloudy', 'Mostly Cloudy', 'Mostly Cloudy', 'no rain', 'Mostly Cloudy', 'Mostly Cloudy', 'no rain', 'no rain', 'Mostly Cloudy', 'Mostly Cloudy', 'no rain', 'Clear', 'Mostly Cloudy', 'no rain', 'Mostly Cloudy', 'Light Rain', 'Partly Cloudy', 'Mostly Cloudy', 'Clear', 'Mostly Cloudy', 'no rain', 'no rain', 'Mostly Cloudy', 'Partly Cloudy', 'Mostly Cloudy', 'Mostly Cloudy', 'no rain', 'Mostly Cloudy', 'Clear', 'Mostly Cloudy', 'no rain', 'Mostly Cloudy', 'Mostly Cloudy', 'Mostly Cloudy', 'Partly Cloudy', 'no rain', 'no rain', 'Partly Cloudy', 'no rain', 'Mostly Cloudy', 'Mostly Cloudy', 'Mostly Cloudy', 'no rain', 'no rain', 'Mostly Cloudy', 'Mostly cloudy throughout the day.', 'Partly Cloudy', 'Mostly Cloudy', 'Mostly Cloudy', 'Mostly Cloudy', 'Mostly Cloudy', 'Partly Cloudy', 'Partly Cloudy', 'Partly Cloudy', 'Partly Cloudy', 'Partly Cloudy', 'Partly Cloudy', 'Partly Cloudy', 'Mostly Cloudy', 'Mostly Cloudy', 'Mostly Cloudy', 'Partly cloudy throughout the day.', 'Partly cloudy throughout the day.', 'Partly cloudy throughout the day.', 'Partly cloudy throughout the day.', 'Partly cloudy throughout the day.', 'Partly cloudy throughout the day.', 'no rain', 'no rain', 'no rain', 'Partly cloudy throughout the day.', 'Mostly Cloudy', 'Mostly Cloudy', 'Mostly Cloudy', 'Mostly Cloudy', 'Mostly Cloudy', 'Mostly Cloudy', 'Mostly Cloudy', 'Mostly Cloudy', 'Mostly Cloudy', 'Mostly Cloudy', 'Mostly Cloudy', 'Mostly Cloudy', 'Mostly Cloudy', 'Mostly Cloudy', 'Mostly Cloudy', 'Mostly Cloudy', 'Mostly Cloudy', 'Mostly Cloudy', 'Mostly Cloudy', 'Partly Cloudy', 'Mostly Cloudy', 'Mostly Cloudy', 'Mostly Cloudy', 'Mostly Cloudy', 'Mostly Cloudy', 'Mostly Cloudy', 'Mostly Cloudy', 'Mostly Cloudy', 'Mostly Cloudy', 'no rain', 'no rain', 'no rain', 'no rain', 'no rain', 'no rain', 'no rain', 'no rain', 'no rain', 'no rain', 'no rain', 'no rain', 'no rain', 'no rain', 'no rain', 'no rain', 'no rain', 'no rain', 'no rain', 'no rain', 'no rain', 'no rain', 'no rain', 'no rain', 'no rain', 'no rain', 'no rain', 'no rain', 'no rain', 'no rain', 'no rain', 'no rain', 'no rain', 'no rain', 'no rain', 'no rain', 'no rain', 'no rain', 'no rain', 'no rain', 'no rain', 'no rain', 'no rain', 'no rain', 'no rain', 'no rain', 'no rain', 'no rain', 'no rain', 'no rain', 'no rain', 'no rain', 'no rain', 'no rain', 'no rain', 'no rain', 'no rain', 'no rain', 'no rain', 'no rain', 'no rain', 'no rain', 'no rain', 'no rain', 'no rain', 'no rain', 'no rain', 'no rain', 'no rain', 'no rain', 'no rain', 'no rain', 'no rain', 'no rain', 'no rain', 'no rain', 'no rain', 'no rain', 'no rain', 'no rain', 'no rain', 'no rain', 'no rain', 'no rain', 'no rain', 'no rain', 'no rain', 'no rain', 'no rain', 'no rain', 'no rain', 'no rain', 'no rain', 'no rain', 'no rain', 'no rain', 'no rain', 'no rain', 'no rain', 'no rain', 'no rain', 'no rain', 'no rain', 'no rain', 'no rain', 'no rain', 'no rain', 'no rain', 'no rain', 'no rain', 'no rain', 'no rain', 'no rain', 'no rain', 'no rain', 'no rain', 'no rain', 'no rain', 'no rain', 'no rain', 'no rain', 'no rain', 'no rain', 'no rain', 'no rain', 'no rain', 'no rain', 'no rain', 'no rain', 'no rain', 'no rain', 'no rain', 'no rain', 'no rain', 'no rain', 'no rain', 'no rain', 'no rain', 'no rain', 'no rain', 'no rain', 'no rain', 'no rain', 'no rain', 'no rain', 'no rain', 'no rain', 'no rain', 'no rain', 'no rain', 'no rain', 'no rain', 'no rain', 'no rain', 'no rain', 'no rain', 'no rain', 'no rain', 'no rain', 'no rain', 'no rain', 'no rain', 'no rain', 'no rain', 'no rain', 'no rain', 'no rain', 'no rain', 'no rain', 'no rain', 'no rain', 'no rain', 'no rain', 'no rain', 'no rain', 'no rain', 'no rain', 'no rain', 'no rain', 'no rain', 'no rain', 'no rain', 'no rain', 'no rain', 'no rain', 'no rain', 'no rain', 'no rain', 'no rain', 'no rain', 'no rain', 'no rain', 'no rain', 'no rain', 'no rain', 'no rain', 'no rain', 'no rain', 'no rain', 'no rain', 'no rain', 'no rain', 'no rain', 'no rain', 'no rain', 'no rain', 'no rain', 'no rain', 'no rain', 'no rain', 'no rain', 'no rain', 'no rain', 'no rain', 'no rain', 'no rain', 'no rain', 'no rain', 'no rain', 'no rain', 'no rain', 'no rain', 'no rain', 'no rain', 'no rain', 'no rain', 'no rain', 'no rain', 'no rain', 'no rain', 'no rain', 'no rain', 'no rain', 'no rain', 'no rain', 'no rain', 'no rain', 'no rain', 'no rain', 'no rain', 'no rain', 'no rain', 'no rain', 'no rain', 'no rain', 'no rain', 'no rain', 'no rain', 'no rain', 'no rain', 'no rain', 'no rain', 'no rain', 'no rain', 'no rain', 'no rain', 'no rain', 'no rain', 'no rain', 'no rain', 'no rain', 'no rain', 'no rain', 'no rain', 'no rain', 'no rain', 'no rain', 'no rain', 'no rain', 'no rain', 'no rain', 'no rain', 'no rain', 'no rain', 'no rain', 'no rain', 'no rain', 'no rain', 'no rain', 'no rain', 'no rain', 'no rain', 'no rain', 'no rain', 'no rain', 'no rain', 'no rain', 'no rain', 'no rain', 'no rain', 'no rain', 'no rain', 'no rain', 'no rain', 'no rain', 'no rain', 'no rain', 'no rain', 'no rain', 'no rain', 'no rain', 'no rain', 'no rain', 'no rain', 'no rain', 'no rain', 'no rain', 'no rain', 'no rain', 'no rain', 'no rain', 'no rain', 'no rain', 'no rain', 'no rain', 'no rain', 'no rain', 'no rain', 'no rain', 'no rain', 'no rain', 'no rain', 'no rain', 'no rain', 'no rain', 'no rain', 'no rain', 'no rain', 'no rain', 'no rain', 'no rain', 'no rain']])"
      ]
     },
     "execution_count": 23,
     "metadata": {},
     "output_type": "execute_result"
    }
   ],
   "source": [
    "f_dict.values()"
   ]
  },
  {
   "cell_type": "code",
   "execution_count": 24,
   "metadata": {},
   "outputs": [
    {
     "data": {
      "text/plain": [
       "array(['Mostly Cloudy', 'Mostly cloudy throughout the day.',\n",
       "       'Partly Cloudy', 'no rain', 'Foggy overnight and in the morning.',\n",
       "       'Partly cloudy throughout the day.', 'Foggy in the morning.',\n",
       "       'Clear', 'Overcast', 'Rain overnight and in the evening.',\n",
       "       'Drizzle overnight and in the evening.',\n",
       "       'Light rain overnight and in the morning.', 'Light Rain'],\n",
       "      dtype=object)"
      ]
     },
     "execution_count": 24,
     "metadata": {},
     "output_type": "execute_result"
    }
   ],
   "source": [
    "df_weather=pd.DataFrame(f_dict)\n",
    "df_weather['forecast'].unique()"
   ]
  },
  {
   "cell_type": "code",
   "execution_count": 74,
   "metadata": {},
   "outputs": [],
   "source": [
    "df_weather.head(20)\n",
    "result = pd.merge(df, df_weather, on='Date')\n",
    "\n",
    "# table = pivot_table(df_weather, index=['date'], columns=['date','forecast'])"
   ]
  },
  {
   "cell_type": "code",
   "execution_count": 76,
   "metadata": {},
   "outputs": [],
   "source": [
    "# df_weather['Date'=='2012-05-30']\n",
    "# df_weather.loc[lambda df_weather: df_weather['Date'] == '2012-03-30']\n",
    "# cur.execute('''SELECT df_weather.Date,forecast,count(1) from df_weather GROUPBY Date,forecast''' )\n",
    "# data = pd.DataFrame(cur.fetchall())\n",
    "# data.columns = (x[0] for x in cur.description)\n",
    "# data.head()\n",
    "# pd.read_sql_query('''SELECT Date,forecast,count(1) from df_weather GROUPBY Date,forecast ''',con=conn)\n"
   ]
  },
  {
   "cell_type": "code",
   "execution_count": 102,
   "metadata": {},
   "outputs": [
    {
     "data": {
      "text/html": [
       "<div>\n",
       "<style scoped>\n",
       "    .dataframe tbody tr th:only-of-type {\n",
       "        vertical-align: middle;\n",
       "    }\n",
       "\n",
       "    .dataframe tbody tr th {\n",
       "        vertical-align: top;\n",
       "    }\n",
       "\n",
       "    .dataframe thead th {\n",
       "        text-align: right;\n",
       "    }\n",
       "</style>\n",
       "<table border=\"1\" class=\"dataframe\">\n",
       "  <thead>\n",
       "    <tr style=\"text-align: right;\">\n",
       "      <th></th>\n",
       "      <th>Match_ID</th>\n",
       "      <th>Div</th>\n",
       "      <th>Season</th>\n",
       "      <th>Date</th>\n",
       "      <th>HomeTeam</th>\n",
       "      <th>AwayTeam</th>\n",
       "      <th>FTHG</th>\n",
       "      <th>FTAG</th>\n",
       "      <th>FTR</th>\n",
       "      <th>forecast</th>\n",
       "      <th>rain</th>\n",
       "    </tr>\n",
       "  </thead>\n",
       "  <tbody>\n",
       "    <tr>\n",
       "      <td>0</td>\n",
       "      <td>1092</td>\n",
       "      <td>D1</td>\n",
       "      <td>2011</td>\n",
       "      <td>2012-03-31</td>\n",
       "      <td>Nurnberg</td>\n",
       "      <td>Bayern Munich</td>\n",
       "      <td>0</td>\n",
       "      <td>1</td>\n",
       "      <td>A</td>\n",
       "      <td>Mostly Cloudy</td>\n",
       "      <td>0</td>\n",
       "    </tr>\n",
       "    <tr>\n",
       "      <td>1</td>\n",
       "      <td>1092</td>\n",
       "      <td>D1</td>\n",
       "      <td>2011</td>\n",
       "      <td>2012-03-31</td>\n",
       "      <td>Nurnberg</td>\n",
       "      <td>Bayern Munich</td>\n",
       "      <td>0</td>\n",
       "      <td>1</td>\n",
       "      <td>A</td>\n",
       "      <td>Mostly Cloudy</td>\n",
       "      <td>0</td>\n",
       "    </tr>\n",
       "    <tr>\n",
       "      <td>2</td>\n",
       "      <td>1092</td>\n",
       "      <td>D1</td>\n",
       "      <td>2011</td>\n",
       "      <td>2012-03-31</td>\n",
       "      <td>Nurnberg</td>\n",
       "      <td>Bayern Munich</td>\n",
       "      <td>0</td>\n",
       "      <td>1</td>\n",
       "      <td>A</td>\n",
       "      <td>Mostly Cloudy</td>\n",
       "      <td>0</td>\n",
       "    </tr>\n",
       "    <tr>\n",
       "      <td>3</td>\n",
       "      <td>1092</td>\n",
       "      <td>D1</td>\n",
       "      <td>2011</td>\n",
       "      <td>2012-03-31</td>\n",
       "      <td>Nurnberg</td>\n",
       "      <td>Bayern Munich</td>\n",
       "      <td>0</td>\n",
       "      <td>1</td>\n",
       "      <td>A</td>\n",
       "      <td>Mostly Cloudy</td>\n",
       "      <td>0</td>\n",
       "    </tr>\n",
       "    <tr>\n",
       "      <td>4</td>\n",
       "      <td>1092</td>\n",
       "      <td>D1</td>\n",
       "      <td>2011</td>\n",
       "      <td>2012-03-31</td>\n",
       "      <td>Nurnberg</td>\n",
       "      <td>Bayern Munich</td>\n",
       "      <td>0</td>\n",
       "      <td>1</td>\n",
       "      <td>A</td>\n",
       "      <td>Mostly Cloudy</td>\n",
       "      <td>0</td>\n",
       "    </tr>\n",
       "  </tbody>\n",
       "</table>\n",
       "</div>"
      ],
      "text/plain": [
       "   Match_ID Div  Season        Date  HomeTeam       AwayTeam  FTHG  FTAG FTR  \\\n",
       "0      1092  D1    2011  2012-03-31  Nurnberg  Bayern Munich     0     1   A   \n",
       "1      1092  D1    2011  2012-03-31  Nurnberg  Bayern Munich     0     1   A   \n",
       "2      1092  D1    2011  2012-03-31  Nurnberg  Bayern Munich     0     1   A   \n",
       "3      1092  D1    2011  2012-03-31  Nurnberg  Bayern Munich     0     1   A   \n",
       "4      1092  D1    2011  2012-03-31  Nurnberg  Bayern Munich     0     1   A   \n",
       "\n",
       "        forecast  rain  \n",
       "0  Mostly Cloudy     0  \n",
       "1  Mostly Cloudy     0  \n",
       "2  Mostly Cloudy     0  \n",
       "3  Mostly Cloudy     0  \n",
       "4  Mostly Cloudy     0  "
      ]
     },
     "execution_count": 102,
     "metadata": {},
     "output_type": "execute_result"
    }
   ],
   "source": [
    "result = pd.merge(yr_11, df_weather,how='left', on='Date')\n",
    "result['rain']=result['forecast'].apply(lambda x: 1 if x == 'Light Rain' else 0)\n",
    "result.head()\n",
    "# result['rain'].value_counts()"
   ]
  },
  {
   "cell_type": "code",
   "execution_count": 101,
   "metadata": {},
   "outputs": [
    {
     "name": "stdout",
     "output_type": "stream",
     "text": [
      "0.0011133603238866396\n"
     ]
    }
   ],
   "source": [
    "no_rain= result['rain'].value_counts()[0] # first value of the result above\n",
    "rainyday = result['rain'].value_counts()[1] # second value of the result above\n",
    "total_day = no_rain + rainyday # total count \n",
    "print (float(rainyday) / total_day) # rainy day percentage"
   ]
  },
  {
   "cell_type": "code",
   "execution_count": 28,
   "metadata": {},
   "outputs": [],
   "source": [
    "import pymongo"
   ]
  },
  {
   "cell_type": "code",
   "execution_count": 29,
   "metadata": {},
   "outputs": [],
   "source": [
    "myclient = pymongo.MongoClient(\"mongodb://127.0.0.1:27017/\")"
   ]
  },
  {
   "cell_type": "code",
   "execution_count": 30,
   "metadata": {},
   "outputs": [],
   "source": [
    "\n",
    "# grab a database from your server \n",
    "mydb = myclient['result']"
   ]
  }
 ],
 "metadata": {
  "kernelspec": {
   "display_name": "Python 3",
   "language": "python",
   "name": "python3"
  },
  "language_info": {
   "codemirror_mode": {
    "name": "ipython",
    "version": 3
   },
   "file_extension": ".py",
   "mimetype": "text/x-python",
   "name": "python",
   "nbconvert_exporter": "python",
   "pygments_lexer": "ipython3",
   "version": "3.7.4"
  }
 },
 "nbformat": 4,
 "nbformat_minor": 2
}
